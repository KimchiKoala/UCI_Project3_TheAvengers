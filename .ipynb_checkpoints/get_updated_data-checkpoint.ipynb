{
 "cells": [
  {
   "cell_type": "code",
   "execution_count": 130,
   "metadata": {},
   "outputs": [],
   "source": [
    "# import dependencies\n",
    "import json\n",
    "import requests\n",
    "import pymongo\n",
    "import pandas as pd\n",
    "from datetime import date, datetime, timedelta\n",
    "from pymongo import MongoClient\n",
    "from config import api_key"
   ]
  },
  {
   "cell_type": "code",
   "execution_count": 131,
   "metadata": {},
   "outputs": [],
   "source": [
    "# Create connection to mongoDB\n",
    "client = MongoClient('mongodb://localhost:27017')"
   ]
  },
  {
   "cell_type": "code",
   "execution_count": 132,
   "metadata": {},
   "outputs": [],
   "source": [
    "# Create connectino to collection stock_db\n",
    "db = client.stock_db"
   ]
  },
  {
   "cell_type": "code",
   "execution_count": 133,
   "metadata": {},
   "outputs": [],
   "source": [
    "# Create variable for new_input\n",
    "new_input = \"AAPL\""
   ]
  },
  {
   "cell_type": "code",
   "execution_count": 134,
   "metadata": {},
   "outputs": [],
   "source": [
    "# from MongoDB pull data from requested input\n",
    "one_stock = db.stock_data.find_one({'symbol': new_input})\n",
    "# Get stock symbol\n",
    "symbol = one_stock['symbol']\n",
    "# Get historical data from stock\n",
    "historical_data = one_stock['historical']"
   ]
  },
  {
   "cell_type": "code",
   "execution_count": 135,
   "metadata": {},
   "outputs": [],
   "source": [
    "# Create empty list to gather data from MongoDB\n",
    "dates = []\n",
    "close = []\n",
    "\n",
    "for h in historical_data:\n",
    "    collect_dates = h['date']\n",
    "    dates.append(collect_dates)\n",
    "    \n",
    "    collect_close = h['close']\n",
    "    close.append(collect_close)"
   ]
  },
  {
   "cell_type": "code",
   "execution_count": 136,
   "metadata": {},
   "outputs": [],
   "source": [
    "# Date variables for API request\n",
    "# Set variable for current date \n",
    "current_date = date.today()\n",
    "# Gather last date stored in MongoDB\n",
    "last_date = max(dates)"
   ]
  },
  {
   "cell_type": "code",
   "execution_count": 137,
   "metadata": {},
   "outputs": [],
   "source": [
    "# Create new_start_date to be a day after the last date\n",
    "date = datetime.strptime(last_date, '%Y-%m-%d')\n",
    "modified_date = date + timedelta(days=1)\n",
    "new_start_date = datetime.strftime(modified_date, '%Y-%m-%d')"
   ]
  },
  {
   "cell_type": "code",
   "execution_count": 138,
   "metadata": {},
   "outputs": [
    {
     "name": "stdout",
     "output_type": "stream",
     "text": [
      "2021-02-27\n"
     ]
    }
   ],
   "source": [
    "print(new_start_date)"
   ]
  },
  {
   "cell_type": "code",
   "execution_count": 139,
   "metadata": {},
   "outputs": [
    {
     "data": {
      "text/plain": [
       "'https://financialmodelingprep.com/api/v3/historical-price-full/AAPL?from=2021-02-27&to=2021-03-01&apikey=96b47c522f00a29fe1b11cfd2b0b02d9'"
      ]
     },
     "execution_count": 139,
     "metadata": {},
     "output_type": "execute_result"
    }
   ],
   "source": [
    "# URL fo\n",
    "url = f\"https://financialmodelingprep.com/api/v3/historical-price-full/{new_input}?from={new_start_date}&to={current_date}&apikey={api_key}\"\n",
    "url"
   ]
  },
  {
   "cell_type": "code",
   "execution_count": 127,
   "metadata": {},
   "outputs": [],
   "source": [
    "new_results = requests.request(\"GET\", url).json()"
   ]
  },
  {
   "cell_type": "code",
   "execution_count": 128,
   "metadata": {},
   "outputs": [
    {
     "data": {
      "text/plain": [
       "{}"
      ]
     },
     "execution_count": 128,
     "metadata": {},
     "output_type": "execute_result"
    }
   ],
   "source": [
    "new_results"
   ]
  },
  {
   "cell_type": "code",
   "execution_count": 145,
   "metadata": {},
   "outputs": [],
   "source": [
    "def get_update(x):\n",
    "    new_results = requests.request(\"GET\", x).json()\n",
    "    return new_results"
   ]
  },
  {
   "cell_type": "code",
   "execution_count": 148,
   "metadata": {},
   "outputs": [],
   "source": [
    "#def send_update(x):\n",
    "    "
   ]
  },
  {
   "cell_type": "code",
   "execution_count": 149,
   "metadata": {},
   "outputs": [
    {
     "name": "stdout",
     "output_type": "stream",
     "text": [
      "Last date in MongoDB is: 2021-02-26\n",
      "{}\n"
     ]
    }
   ],
   "source": [
    "if str(last_date) < str(current_date):\n",
    "    print(f\"Last date in MongoDB is: {last_date}\")\n",
    "    get_update(url)\n",
    "    print(new_results)\n",
    "    #db{new_input}.insert_one(new_data)\n",
    "    "
   ]
  },
  {
   "cell_type": "code",
   "execution_count": null,
   "metadata": {},
   "outputs": [],
   "source": []
  }
 ],
 "metadata": {
  "kernelspec": {
   "display_name": "Python [conda env:PythonData] *",
   "language": "python",
   "name": "conda-env-PythonData-py"
  },
  "language_info": {
   "codemirror_mode": {
    "name": "ipython",
    "version": 3
   },
   "file_extension": ".py",
   "mimetype": "text/x-python",
   "name": "python",
   "nbconvert_exporter": "python",
   "pygments_lexer": "ipython3",
   "version": "3.8.5"
  }
 },
 "nbformat": 4,
 "nbformat_minor": 4
}
