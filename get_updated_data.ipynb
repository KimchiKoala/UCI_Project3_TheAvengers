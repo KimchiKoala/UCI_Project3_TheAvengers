{
 "cells": [
  {
   "cell_type": "code",
   "execution_count": 15,
   "metadata": {},
   "outputs": [],
   "source": [
    "# import dependencies\n",
    "import json\n",
    "import requests\n",
    "import pymongo\n",
    "import pandas as pd\n",
    "from datetime import date, datetime, timedelta\n",
    "from pymongo import MongoClient\n",
    "from config import api_key"
   ]
  },
  {
   "cell_type": "code",
   "execution_count": 16,
   "metadata": {},
   "outputs": [],
   "source": [
    "# Create connection to mongoDB\n",
    "client = MongoClient('mongodb://localhost:27017')"
   ]
  },
  {
   "cell_type": "code",
   "execution_count": 17,
   "metadata": {},
   "outputs": [],
   "source": [
    "# Create connectin to database stock_db\n",
    "db = client.stock_db"
   ]
  },
  {
   "cell_type": "code",
   "execution_count": 18,
   "metadata": {},
   "outputs": [],
   "source": [
    "# Create variable for new_input\n",
    "new_input = \"ZM\""
   ]
  },
  {
   "cell_type": "code",
   "execution_count": 19,
   "metadata": {},
   "outputs": [],
   "source": [
    "# Retrieve date fro MongoDB collection stock_data\n",
    "one_stock = db.stock_data.find_one({'symbol': new_input})\n",
    "# Get stock symbol\n",
    "symbol = one_stock['symbol']\n",
    "# Get historical data from stock\n",
    "historical_data = one_stock['historical']"
   ]
  },
  {
   "cell_type": "code",
   "execution_count": 21,
   "metadata": {},
   "outputs": [],
   "source": [
    "# Create empty list to gather data from MongoDB\n",
    "dates = []\n",
    "close = []\n",
    "\n",
    "for h in historical_data:\n",
    "    \n",
    "    collect_dates = h['date']\n",
    "    dates.append(collect_dates)\n",
    "    \n",
    "    collect_close = h['close']\n",
    "    close.append(collect_close)"
   ]
  },
  {
   "cell_type": "code",
   "execution_count": 22,
   "metadata": {},
   "outputs": [],
   "source": [
    "# Create date variables for API request\n",
    "# Set variable for current date \n",
    "current_date = date.today()\n",
    "# Retrive last date stored in MongoDB\n",
    "last_date = max(dates)"
   ]
  },
  {
   "cell_type": "code",
   "execution_count": 23,
   "metadata": {},
   "outputs": [],
   "source": [
    "# Create new_start_date to be a day after the last date\n",
    "date = datetime.strptime(last_date, '%Y-%m-%d') \n",
    "#print(date)\n",
    "modified_date = date + timedelta(days=1)\n",
    "#print(modified_date)\n",
    "new_start_date = datetime.strftime(modified_date, '%Y-%m-%d')\n",
    "#print(new_start_date)"
   ]
  },
  {
   "cell_type": "code",
   "execution_count": 24,
   "metadata": {},
   "outputs": [
    {
     "name": "stdout",
     "output_type": "stream",
     "text": [
      "2021-03-02\n"
     ]
    }
   ],
   "source": [
    "print(new_start_date)"
   ]
  },
  {
   "cell_type": "code",
   "execution_count": 25,
   "metadata": {},
   "outputs": [],
   "source": [
    "# Set new url to update data\n",
    "url = f\"https://financialmodelingprep.com/api/v3/historical-price-full/{new_input}?from={new_start_date}&to={current_date}&apikey={api_key}\""
   ]
  },
  {
   "cell_type": "code",
   "execution_count": 42,
   "metadata": {},
   "outputs": [
    {
     "name": "stdout",
     "output_type": "stream",
     "text": [
      "Last date in MongoDB is: 2021-03-01\n"
     ]
    },
    {
     "ename": "KeyError",
     "evalue": "'historical'",
     "output_type": "error",
     "traceback": [
      "\u001b[1;31m---------------------------------------------------------------------------\u001b[0m",
      "\u001b[1;31mKeyError\u001b[0m                                  Traceback (most recent call last)",
      "\u001b[1;32m<ipython-input-42-fad130bb60cd>\u001b[0m in \u001b[0;36m<module>\u001b[1;34m\u001b[0m\n\u001b[0;32m      8\u001b[0m     \u001b[1;32mif\u001b[0m \u001b[1;32mnot\u001b[0m \u001b[0mnew_results\u001b[0m\u001b[1;33m:\u001b[0m\u001b[1;33m\u001b[0m\u001b[1;33m\u001b[0m\u001b[0m\n\u001b[0;32m      9\u001b[0m         \u001b[1;31m# Isolate historical data\u001b[0m\u001b[1;33m\u001b[0m\u001b[1;33m\u001b[0m\u001b[1;33m\u001b[0m\u001b[0m\n\u001b[1;32m---> 10\u001b[1;33m         \u001b[0mhistorical_update\u001b[0m \u001b[1;33m=\u001b[0m \u001b[0mnew_results\u001b[0m\u001b[1;33m[\u001b[0m\u001b[1;34m'historical'\u001b[0m\u001b[1;33m]\u001b[0m\u001b[1;33m\u001b[0m\u001b[1;33m\u001b[0m\u001b[0m\n\u001b[0m\u001b[0;32m     11\u001b[0m         \u001b[1;31m#for loop through historacal_update to retrive updated data\u001b[0m\u001b[1;33m\u001b[0m\u001b[1;33m\u001b[0m\u001b[1;33m\u001b[0m\u001b[0m\n\u001b[0;32m     12\u001b[0m         \u001b[1;32mfor\u001b[0m \u001b[0mh\u001b[0m \u001b[1;32min\u001b[0m \u001b[0mhistorical_update\u001b[0m\u001b[1;33m:\u001b[0m\u001b[1;33m\u001b[0m\u001b[1;33m\u001b[0m\u001b[0m\n",
      "\u001b[1;31mKeyError\u001b[0m: 'historical'"
     ]
    }
   ],
   "source": [
    "# conditional statement to determine if an update query is needed\n",
    "# based on if last_data in MongDb < current_date being requested\n",
    "if str(last_date) < str(current_date):\n",
    "    print(f\"Last date in MongoDB is: {last_date}\")\n",
    "    # if so send new request fro url with new start and end date\n",
    "    new_results = requests.request(\"GET\", url).json()\n",
    "    #print(new_results)\n",
    "    if not new_results:\n",
    "        # Isolate historical data\n",
    "        historical_update = new_results['historical']\n",
    "        #for loop through historacal_update to retrive updated data\n",
    "        for h in historical_update:\n",
    "            # Retrieve new date and close data\n",
    "            date_update = h['date']\n",
    "            close_update = h['close']\n",
    "            #print(f\"Date update {date_update}\")\n",
    "            #print(f\"Close update {close_update}\")\n",
    "            # Send update to MongoDb and push tp historical list\n",
    "            #db.stock_data.update_one({'symbol': new_input}, {'$push': {'historical': {'date': date_update, 'close': close_update}}})\n",
    "            print(\"Update complete\")   \n",
    "    else:\n",
    "        print(\"Data up to date\")"
   ]
  },
  {
   "cell_type": "code",
   "execution_count": null,
   "metadata": {},
   "outputs": [],
   "source": []
  }
 ],
 "metadata": {
  "kernelspec": {
   "display_name": "Python [conda env:PythonData] *",
   "language": "python",
   "name": "conda-env-PythonData-py"
  }
 },
 "nbformat": 4,
 "nbformat_minor": 4
}
