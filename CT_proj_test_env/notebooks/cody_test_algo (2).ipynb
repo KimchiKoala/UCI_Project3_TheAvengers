{
 "cells": [
  {
   "cell_type": "code",
   "execution_count": 1,
   "metadata": {},
   "outputs": [
    {
     "name": "stdout",
     "output_type": "stream",
     "text": [
      "Requirement already satisfied: pymongo in c:\\users\\codyt\\anaconda3\\envs\\pythonadv\\lib\\site-packages (3.11.3)\n"
     ]
    }
   ],
   "source": [
    "!pip install pymongo"
   ]
  },
  {
   "cell_type": "code",
   "execution_count": 2,
   "metadata": {
    "id": "y7k2u2MwG9U1"
   },
   "outputs": [
    {
     "name": "stderr",
     "output_type": "stream",
     "text": [
      "Using TensorFlow backend.\n"
     ]
    }
   ],
   "source": [
    "import math\n",
    "#import pandas_datareader as web\n",
    "import numpy as np\n",
    "import pandas as pd\n",
    "from sklearn.preprocessing import MinMaxScaler\n",
    "from keras.models import Sequential\n",
    "from keras.layers import Dense, LSTM\n",
    "import matplotlib.pyplot as plt\n",
    "plt.style.use('fivethirtyeight')\n",
    "from pymongo import MongoClient"
   ]
  },
  {
   "cell_type": "code",
   "execution_count": 3,
   "metadata": {
    "colab": {
     "base_uri": "https://localhost:8080/",
     "height": 408
    },
    "id": "jO_e-yjkYu26",
    "outputId": "3956254d-3ffd-4a8e-a1da-d97569a81883"
   },
   "outputs": [],
   "source": [
    "# Create connection to MongoDb\n",
    "client = MongoClient('mongodb://localhost:27017')\n",
    "# Select stock_data database from mongoDB\n",
    "db = client.stock_db\n",
    "\n",
    "# Set up variable for input\n",
    "input = 'AAPL'\n",
    "\n",
    "# Gathering data\n",
    "one_stock = db.stock_data.find_one({'symbol': input})\n",
    "\n",
    "symbol = one_stock['symbol']\n",
    "historical_data = one_stock['historical']\n",
    "\n",
    "date = []\n",
    "close = []\n",
    "\n",
    "for h in historical_data:\n",
    "    \n",
    "    collect_dates = h['date']\n",
    "    date.append(collect_dates)\n",
    "    \n",
    "    collect_close = h['close']\n",
    "    close.append(collect_close)\n",
    "    "
   ]
  },
  {
   "cell_type": "code",
   "execution_count": 4,
   "metadata": {
    "id": "2mz9HWgPYu27",
    "outputId": "29a5e112-ed9e-4e43-c39e-539ec17ab5bd"
   },
   "outputs": [
    {
     "data": {
      "text/html": [
       "<div>\n",
       "<style scoped>\n",
       "    .dataframe tbody tr th:only-of-type {\n",
       "        vertical-align: middle;\n",
       "    }\n",
       "\n",
       "    .dataframe tbody tr th {\n",
       "        vertical-align: top;\n",
       "    }\n",
       "\n",
       "    .dataframe thead th {\n",
       "        text-align: right;\n",
       "    }\n",
       "</style>\n",
       "<table border=\"1\" class=\"dataframe\">\n",
       "  <thead>\n",
       "    <tr style=\"text-align: right;\">\n",
       "      <th></th>\n",
       "      <th>Date</th>\n",
       "      <th>close</th>\n",
       "    </tr>\n",
       "  </thead>\n",
       "  <tbody>\n",
       "    <tr>\n",
       "      <th>0</th>\n",
       "      <td>2021-02-26</td>\n",
       "      <td>121.260000</td>\n",
       "    </tr>\n",
       "    <tr>\n",
       "      <th>1</th>\n",
       "      <td>2021-02-25</td>\n",
       "      <td>120.989998</td>\n",
       "    </tr>\n",
       "    <tr>\n",
       "      <th>2</th>\n",
       "      <td>2021-02-24</td>\n",
       "      <td>125.349998</td>\n",
       "    </tr>\n",
       "    <tr>\n",
       "      <th>3</th>\n",
       "      <td>2021-02-23</td>\n",
       "      <td>125.860001</td>\n",
       "    </tr>\n",
       "    <tr>\n",
       "      <th>4</th>\n",
       "      <td>2021-02-22</td>\n",
       "      <td>126.000000</td>\n",
       "    </tr>\n",
       "  </tbody>\n",
       "</table>\n",
       "</div>"
      ],
      "text/plain": [
       "         Date       close\n",
       "0  2021-02-26  121.260000\n",
       "1  2021-02-25  120.989998\n",
       "2  2021-02-24  125.349998\n",
       "3  2021-02-23  125.860001\n",
       "4  2021-02-22  126.000000"
      ]
     },
     "execution_count": 4,
     "metadata": {},
     "output_type": "execute_result"
    }
   ],
   "source": [
    "df = pd.DataFrame({'Date': date,\n",
    "                  'close': close})\n",
    "\n",
    "\n",
    "df.head()"
   ]
  },
  {
   "cell_type": "code",
   "execution_count": 14,
   "metadata": {},
   "outputs": [
    {
     "data": {
      "text/plain": [
       "Date     datetime64[ns]\n",
       "close           float64\n",
       "dtype: object"
      ]
     },
     "execution_count": 14,
     "metadata": {},
     "output_type": "execute_result"
    }
   ],
   "source": [
    "df['Date'] = pd.to_datetime(df['Date'])\n",
    "\n",
    "df.dtypes"
   ]
  },
  {
   "cell_type": "code",
   "execution_count": 15,
   "metadata": {
    "id": "bBkUtcThYu28"
   },
   "outputs": [
    {
     "data": {
      "text/html": [
       "<div>\n",
       "<style scoped>\n",
       "    .dataframe tbody tr th:only-of-type {\n",
       "        vertical-align: middle;\n",
       "    }\n",
       "\n",
       "    .dataframe tbody tr th {\n",
       "        vertical-align: top;\n",
       "    }\n",
       "\n",
       "    .dataframe thead th {\n",
       "        text-align: right;\n",
       "    }\n",
       "</style>\n",
       "<table border=\"1\" class=\"dataframe\">\n",
       "  <thead>\n",
       "    <tr style=\"text-align: right;\">\n",
       "      <th></th>\n",
       "      <th>close</th>\n",
       "    </tr>\n",
       "    <tr>\n",
       "      <th>Date</th>\n",
       "      <th></th>\n",
       "    </tr>\n",
       "  </thead>\n",
       "  <tbody>\n",
       "    <tr>\n",
       "      <th>2016-02-29</th>\n",
       "      <td>24.172501</td>\n",
       "    </tr>\n",
       "    <tr>\n",
       "      <th>2016-03-01</th>\n",
       "      <td>25.132500</td>\n",
       "    </tr>\n",
       "    <tr>\n",
       "      <th>2016-03-02</th>\n",
       "      <td>25.187500</td>\n",
       "    </tr>\n",
       "    <tr>\n",
       "      <th>2016-03-03</th>\n",
       "      <td>25.375000</td>\n",
       "    </tr>\n",
       "    <tr>\n",
       "      <th>2016-03-04</th>\n",
       "      <td>25.752501</td>\n",
       "    </tr>\n",
       "  </tbody>\n",
       "</table>\n",
       "</div>"
      ],
      "text/plain": [
       "                close\n",
       "Date                 \n",
       "2016-02-29  24.172501\n",
       "2016-03-01  25.132500\n",
       "2016-03-02  25.187500\n",
       "2016-03-03  25.375000\n",
       "2016-03-04  25.752501"
      ]
     },
     "execution_count": 15,
     "metadata": {},
     "output_type": "execute_result"
    }
   ],
   "source": [
    "sort_df = df.sort_values(by='Date', ascending=True)\n",
    "\n",
    "new_df = sort_df.set_index('Date')\n",
    "\n",
    "new_df.head()"
   ]
  },
  {
   "cell_type": "code",
   "execution_count": 13,
   "metadata": {
    "colab": {
     "base_uri": "https://localhost:8080/",
     "height": 447
    },
    "id": "5o45x9RRIJ8G",
    "outputId": "7f43a2fc-7dbd-4ac8-cdd1-ea0e3a5242ca"
   },
   "outputs": [
    {
     "data": {
      "text/plain": [
       "Date      object\n",
       "close    float64\n",
       "dtype: object"
      ]
     },
     "execution_count": 13,
     "metadata": {},
     "output_type": "execute_result"
    }
   ],
   "source": [
    "# # Maybe add user input variables for ticker and date?? \n",
    "\n",
    "\n",
    "# # Pull stock quote\n",
    "# df = web.DataReader('SOS', data_source='yahoo', start='2010-01-01', end='2020-12-30')\n",
    "\n",
    "# # Show df\n",
    "# df\n"
   ]
  },
  {
   "cell_type": "code",
   "execution_count": 16,
   "metadata": {
    "colab": {
     "base_uri": "https://localhost:8080/"
    },
    "id": "XTEGFUt0Im2r",
    "outputId": "e0a53f8f-c3b4-4665-db3c-9919b31b7a57"
   },
   "outputs": [
    {
     "data": {
      "text/plain": [
       "(1259, 1)"
      ]
     },
     "execution_count": 16,
     "metadata": {},
     "output_type": "execute_result"
    }
   ],
   "source": [
    "# Get the # of rows and col in df\n",
    "new_df.shape"
   ]
  },
  {
   "cell_type": "code",
   "execution_count": 17,
   "metadata": {
    "colab": {
     "base_uri": "https://localhost:8080/",
     "height": 558
    },
    "id": "Ao_l9r3dI2-A",
    "outputId": "42ccc6cc-9c17-4e7c-ad32-8f0c6957ea8c"
   },
   "outputs": [
    {
     "data": {
      "image/png": "[encoded data removed]",
      "text/plain": [
       "<Figure size 1152x576 with 1 Axes>"
      ]
     },
     "metadata": {},
     "output_type": "display_data"
    }
   ],
   "source": [
    "# Visualize closing price history\n",
    "plt.figure(figsize=(16,8))\n",
    "plt.title('Closing Price History')\n",
    "plt.plot(new_df['close'])\n",
    "plt.xlabel('Date', fontsize=18)\n",
    "plt.ylabel('Close Price USD ($)', fontsize=18)\n",
    "plt.show()"
   ]
  },
  {
   "cell_type": "code",
   "execution_count": 38,
   "metadata": {
    "colab": {
     "base_uri": "https://localhost:8080/"
    },
    "id": "12sy74srJVcX",
    "outputId": "da1f3cba-7003-4ff7-a26a-137725da8dd9"
   },
   "outputs": [
    {
     "data": {
      "text/plain": [
       "1008"
      ]
     },
     "execution_count": 38,
     "metadata": {},
     "output_type": "execute_result"
    }
   ],
   "source": [
    "# Create new df with only the 'Close' column\n",
    "data = new_df.filter(['close'])\n",
    "\n",
    "# Convert df to a numpy array\n",
    "dataset = data.values\n",
    "\n",
    "# Get the number of rows to train the model on\n",
    "training_data_len = math.ceil(len(dataset) * .8)\n",
    "\n",
    "training_data_len"
   ]
  },
  {
   "cell_type": "code",
   "execution_count": 39,
   "metadata": {
    "colab": {
     "base_uri": "https://localhost:8080/"
    },
    "id": "PiWnsAtLK9RO",
    "outputId": "610ca843-5417-4dde-c2bf-2c52cfa357e7"
   },
   "outputs": [
    {
     "data": {
      "text/plain": [
       "array([[0.0131661 ],\n",
       "       [0.02112794],\n",
       "       [0.02158408],\n",
       "       ...,\n",
       "       [0.85229106],\n",
       "       [0.816131  ],\n",
       "       [0.81837028]])"
      ]
     },
     "execution_count": 39,
     "metadata": {},
     "output_type": "execute_result"
    }
   ],
   "source": [
    "# Scale the data to apply preprocessing scaling before presenting to nueral network\n",
    "scaler = MinMaxScaler(feature_range=(0,1))\n",
    "scaled_data = scaler.fit_transform(dataset)\n",
    "\n",
    "# Show scaled data representing values between 0-1\n",
    "scaled_data"
   ]
  },
  {
   "cell_type": "code",
   "execution_count": 40,
   "metadata": {
    "colab": {
     "base_uri": "https://localhost:8080/"
    },
    "id": "OQp_6n4BLoR8",
    "outputId": "c14f2855-e444-487e-b035-a6a0df993c4c"
   },
   "outputs": [
    {
     "name": "stdout",
     "output_type": "stream",
     "text": [
      "[array([0.0131661 , 0.02112794, 0.02158408, 0.02313913, 0.02626997,\n",
      "       0.0239063 , 0.02216464, 0.02235125, 0.02245491, 0.02471492,\n",
      "       0.02525399, 0.0295252 , 0.03240722, 0.03205475, 0.03230355,\n",
      "       0.03228283, 0.03396227, 0.03273896, 0.0317852 , 0.03078998,\n",
      "       0.03595273, 0.03985071, 0.03866888, 0.04074227, 0.04308523,\n",
      "       0.04036906, 0.04275348, 0.03773586, 0.03798467, 0.03873108,\n",
      "       0.04167532, 0.04499275, 0.04511715, 0.04045201, 0.03553806,\n",
      "       0.03435622, 0.03481236, 0.03240722, 0.03180594, 0.0305619 ,\n",
      "       0.02904832, 0.01550903, 0.00930957, 0.00704955, 0.00684222,\n",
      "       0.01003526, 0.0079826 , 0.00601285, 0.0049347 , 0.00507983,\n",
      "       0.00638607, 0.00449929, 0.        , 0.00037321, 0.00733983,\n",
      "       0.0065312 , 0.00874974, 0.00800332, 0.01011819, 0.012627  ])]\n",
      "[0.015674898790176306]\n",
      "\n"
     ]
    }
   ],
   "source": [
    "# Create the training dataset \n",
    "# Create the scaled training dataset\n",
    "train_data = scaled_data[0:training_data_len , :]\n",
    "\n",
    "# Split the data into x_train and y_train data sets\n",
    "# x_train will be the independent training variables\n",
    "# y_train will be the dependent variables\n",
    "x_train = []\n",
    "y_train = []\n",
    "\n",
    "for i in range(60, len(train_data)):\n",
    "  # Append past 60 values to x_train\n",
    "  # contains 60 vals index from position 0 to position 59\n",
    "  x_train.append(train_data[i-60:i, 0])\n",
    "\n",
    "  #y_train will contain the 61st value \n",
    "  y_train.append(train_data[i,0])\n",
    "\n",
    "  # Run below to visualize the x & y trains. x should be an array of 60 values and y should be 1 value being the 61st\n",
    "  # Changing to if i<=61 will provide a 2nd pass through\n",
    "  if i<=60:\n",
    "    print(x_train)\n",
    "    print(y_train)\n",
    "    print()\n",
    "\n",
    "\n"
   ]
  },
  {
   "cell_type": "code",
   "execution_count": 41,
   "metadata": {
    "id": "YlK-SXDHOW_r"
   },
   "outputs": [],
   "source": [
    "# Convert x_train & y_train to numpy arrays  so we can use them for training the LSTM model\n",
    "x_train, y_train = np.array(x_train), np.array(y_train)"
   ]
  },
  {
   "cell_type": "code",
   "execution_count": 42,
   "metadata": {
    "colab": {
     "base_uri": "https://localhost:8080/"
    },
    "id": "azvDxl05N4f8",
    "outputId": "a11dd2a7-c622-4b37-e61f-0b7f122eb0aa"
   },
   "outputs": [
    {
     "data": {
      "text/plain": [
       "(948, 60, 1)"
      ]
     },
     "execution_count": 42,
     "metadata": {},
     "output_type": "execute_result"
    }
   ],
   "source": [
    "# Reshape the data because LSTM network expects input to be 3 dimensional and as of now our x_train is 2D\n",
    "# number of sample(rows), timesteps(columns), and features(closing price)\n",
    "x_train = np.reshape(x_train, (x_train.shape[0], x_train.shape[1], 1))\n",
    "x_train.shape"
   ]
  },
  {
   "cell_type": "code",
   "execution_count": 43,
   "metadata": {
    "id": "Isbqo9dvPp0y"
   },
   "outputs": [],
   "source": [
    "# Build LSTM model\n",
    "model = Sequential()\n",
    "# add LSTM with 50 neurons \n",
    "model.add(LSTM(50, return_sequences=True, input_shape=(x_train.shape[1], 1)))\n",
    "model.add(LSTM(50, return_sequences=False))\n",
    "model.add(Dense(25))\n",
    "model.add(Dense(1))"
   ]
  },
  {
   "cell_type": "code",
   "execution_count": 44,
   "metadata": {
    "id": "8J5JrVnSQ6-5"
   },
   "outputs": [],
   "source": [
    "# Compile the model\n",
    "model.compile(optimizer='adam', loss='mean_squared_error')"
   ]
  },
  {
   "cell_type": "code",
   "execution_count": 45,
   "metadata": {
    "colab": {
     "base_uri": "https://localhost:8080/"
    },
    "id": "VV6C0CyfRMAq",
    "outputId": "03090039-9437-4710-ab45-23413f3fdb1a"
   },
   "outputs": [
    {
     "name": "stdout",
     "output_type": "stream",
     "text": [
      "Epoch 1/1\n",
      "948/948 [==============================] - 20s 21ms/step - loss: 5.3613e-04\n"
     ]
    },
    {
     "data": {
      "text/plain": [
       "<keras.callbacks.callbacks.History at 0x20e9ab5e278>"
      ]
     },
     "execution_count": 45,
     "metadata": {},
     "output_type": "execute_result"
    }
   ],
   "source": [
    "# Train the model\n",
    "model.fit(x_train, y_train, batch_size=1, epochs=1)"
   ]
  },
  {
   "cell_type": "code",
   "execution_count": 46,
   "metadata": {
    "id": "zr0ZGx6IRXrn"
   },
   "outputs": [],
   "source": [
    "# Create testing dataset\n",
    "# Create new array containing scaled values from index 2057 to 2646\n",
    "test_data = scaled_data[training_data_len - 60: , :]\n",
    "\n",
    "# Create the data sets x_test and y_test\n",
    "x_test = []\n",
    "# y_test contains actual 61st values (not scaled)\n",
    "y_test = dataset[training_data_len: , :]\n",
    "\n",
    "for i in range(60, len(test_data)):\n",
    "  x_test.append(test_data[i-60:i, 0])\n",
    "\n"
   ]
  },
  {
   "cell_type": "code",
   "execution_count": 47,
   "metadata": {
    "id": "GQKsBudgUo9B"
   },
   "outputs": [],
   "source": [
    "# Convert data to numpy array to use is LSTM model\n",
    "x_test = np.array(x_test)\n"
   ]
  },
  {
   "cell_type": "code",
   "execution_count": 48,
   "metadata": {
    "id": "LeYpv8G7UxAM"
   },
   "outputs": [],
   "source": [
    "# Reshape the data because data is 2D and we need 3D for LSTM\n",
    "# number of samples(rows), timesteps(col), features(closing price)\n",
    "x_test = np.reshape(x_test, (x_test.shape[0], x_test.shape[1], 1))\n"
   ]
  },
  {
   "cell_type": "code",
   "execution_count": 49,
   "metadata": {
    "id": "TLdMj7AEVQhH"
   },
   "outputs": [],
   "source": [
    "# Get the models predicted price values for x_test dataset\n",
    "predictions = model.predict(x_test)\n",
    "predictions = scaler.inverse_transform(predictions)\n",
    "\n"
   ]
  },
  {
   "cell_type": "code",
   "execution_count": 50,
   "metadata": {
    "colab": {
     "base_uri": "https://localhost:8080/"
    },
    "id": "SnYRT5erXxno",
    "outputId": "77c43e83-0cb7-46af-dec6-a3c71b854fca"
   },
   "outputs": [
    {
     "data": {
      "text/plain": [
       "4.026975675971893"
      ]
     },
     "execution_count": 50,
     "metadata": {},
     "output_type": "execute_result"
    }
   ],
   "source": [
    "# Get the root mean squared error. Closer to 0 the better\n",
    "rmse = np.sqrt(np.mean(predictions - y_test) **2)\n",
    "rmse"
   ]
  },
  {
   "cell_type": "code",
   "execution_count": 51,
   "metadata": {
    "colab": {
     "base_uri": "https://localhost:8080/",
     "height": 663
    },
    "id": "A8xblCk6YH0A",
    "outputId": "d7d51a22-cb37-464c-c039-20f0b55799cd"
   },
   "outputs": [
    {
     "name": "stderr",
     "output_type": "stream",
     "text": [
      "C:\\Users\\codyt\\anaconda3\\envs\\PythonAdv\\lib\\site-packages\\ipykernel_launcher.py:4: SettingWithCopyWarning: \n",
      "A value is trying to be set on a copy of a slice from a DataFrame.\n",
      "Try using .loc[row_indexer,col_indexer] = value instead\n",
      "\n",
      "See the caveats in the documentation: https://pandas.pydata.org/pandas-docs/stable/user_guide/indexing.html#returning-a-view-versus-a-copy\n",
      "  after removing the cwd from sys.path.\n"
     ]
    },
    {
     "data": {
      "image/png": "[encoded data removed]",
      "text/plain": [
       "<Figure size 1152x576 with 1 Axes>"
      ]
     },
     "metadata": {},
     "output_type": "display_data"
    }
   ],
   "source": [
    "# Plot the data\n",
    "train = data[:training_data_len]\n",
    "valid = data[training_data_len:]\n",
    "valid['Predictions'] = predictions\n",
    "\n",
    "# Visualize the model\n",
    "plt.figure(figsize=(16,8))\n",
    "plt.title('Model')\n",
    "plt.xlabel('Date', fontsize=18)\n",
    "plt.ylabel('Close Price USD ($)', fontsize=18)\n",
    "plt.plot(train['close'])\n",
    "plt.plot(valid[['close', 'Predictions']])\n",
    "plt.legend(['Train', 'Validation', 'Predictions'], loc='lower right')\n",
    "plt.show()\n",
    "\n",
    "# Blue will indicate what the model was trained on\n",
    "# Red is actual closing values\n",
    "# Yellow is the prediction"
   ]
  },
  {
   "cell_type": "code",
   "execution_count": 52,
   "metadata": {
    "colab": {
     "base_uri": "https://localhost:8080/",
     "height": 447
    },
    "id": "3V8E-m19ZS4E",
    "outputId": "06539d6d-c227-4472-cdbb-62150334bfb5"
   },
   "outputs": [
    {
     "data": {
      "text/html": [
       "<div>\n",
       "<style scoped>\n",
       "    .dataframe tbody tr th:only-of-type {\n",
       "        vertical-align: middle;\n",
       "    }\n",
       "\n",
       "    .dataframe tbody tr th {\n",
       "        vertical-align: top;\n",
       "    }\n",
       "\n",
       "    .dataframe thead th {\n",
       "        text-align: right;\n",
       "    }\n",
       "</style>\n",
       "<table border=\"1\" class=\"dataframe\">\n",
       "  <thead>\n",
       "    <tr style=\"text-align: right;\">\n",
       "      <th></th>\n",
       "      <th>close</th>\n",
       "      <th>Predictions</th>\n",
       "    </tr>\n",
       "    <tr>\n",
       "      <th>Date</th>\n",
       "      <th></th>\n",
       "      <th></th>\n",
       "    </tr>\n",
       "  </thead>\n",
       "  <tbody>\n",
       "    <tr>\n",
       "      <th>2020-03-02</th>\n",
       "      <td>74.702499</td>\n",
       "      <td>73.718216</td>\n",
       "    </tr>\n",
       "    <tr>\n",
       "      <th>2020-03-03</th>\n",
       "      <td>72.330002</td>\n",
       "      <td>72.920891</td>\n",
       "    </tr>\n",
       "    <tr>\n",
       "      <th>2020-03-04</th>\n",
       "      <td>75.684998</td>\n",
       "      <td>72.317741</td>\n",
       "    </tr>\n",
       "    <tr>\n",
       "      <th>2020-03-05</th>\n",
       "      <td>73.230003</td>\n",
       "      <td>72.138039</td>\n",
       "    </tr>\n",
       "    <tr>\n",
       "      <th>2020-03-06</th>\n",
       "      <td>72.257500</td>\n",
       "      <td>72.019791</td>\n",
       "    </tr>\n",
       "    <tr>\n",
       "      <th>...</th>\n",
       "      <td>...</td>\n",
       "      <td>...</td>\n",
       "    </tr>\n",
       "    <tr>\n",
       "      <th>2021-02-22</th>\n",
       "      <td>126.000000</td>\n",
       "      <td>128.395828</td>\n",
       "    </tr>\n",
       "    <tr>\n",
       "      <th>2021-02-23</th>\n",
       "      <td>125.860001</td>\n",
       "      <td>127.416145</td>\n",
       "    </tr>\n",
       "    <tr>\n",
       "      <th>2021-02-24</th>\n",
       "      <td>125.349998</td>\n",
       "      <td>126.366280</td>\n",
       "    </tr>\n",
       "    <tr>\n",
       "      <th>2021-02-25</th>\n",
       "      <td>120.989998</td>\n",
       "      <td>125.325645</td>\n",
       "    </tr>\n",
       "    <tr>\n",
       "      <th>2021-02-26</th>\n",
       "      <td>121.260000</td>\n",
       "      <td>124.040207</td>\n",
       "    </tr>\n",
       "  </tbody>\n",
       "</table>\n",
       "<p>251 rows × 2 columns</p>\n",
       "</div>"
      ],
      "text/plain": [
       "                 close  Predictions\n",
       "Date                               \n",
       "2020-03-02   74.702499    73.718216\n",
       "2020-03-03   72.330002    72.920891\n",
       "2020-03-04   75.684998    72.317741\n",
       "2020-03-05   73.230003    72.138039\n",
       "2020-03-06   72.257500    72.019791\n",
       "...                ...          ...\n",
       "2021-02-22  126.000000   128.395828\n",
       "2021-02-23  125.860001   127.416145\n",
       "2021-02-24  125.349998   126.366280\n",
       "2021-02-25  120.989998   125.325645\n",
       "2021-02-26  121.260000   124.040207\n",
       "\n",
       "[251 rows x 2 columns]"
      ]
     },
     "execution_count": 52,
     "metadata": {},
     "output_type": "execute_result"
    }
   ],
   "source": [
    "# Show the actual prices and predicted prices\n",
    "valid"
   ]
  },
  {
   "cell_type": "code",
   "execution_count": null,
   "metadata": {
    "colab": {
     "base_uri": "https://localhost:8080/"
    },
    "id": "3K9sjINPZwhb",
    "outputId": "3f1318cd-5416-459a-a625-8d12481f8fae"
   },
   "outputs": [],
   "source": [
    "# Lets try and predict the Dec 31st price \n",
    "# Get the quote\n",
    "# tesla_quote = web.DataReader('SOS', data_source='yahoo', start='2010-01-01', end='2021-2-26')\n",
    "\n",
    "# # Create new df\n",
    "# new_df = tesla_quote.filter(['Close'])\n",
    "\n",
    "# # Get the last 60 day closing price values and convert df to an array\n",
    "# last_60_days = new_df[-60:].values\n",
    "\n",
    "# # Scale the data to be values between 0 and 1\n",
    "# last_60_days_scaled = scaler.transform(last_60_days)\n",
    "\n",
    "# # Create an empty list\n",
    "# X_test = []\n",
    "\n",
    "# # Append last 60 days that were scaled\n",
    "# X_test.append(last_60_days_scaled)\n",
    "\n",
    "# # Convert the X_test dataset to numpy aray\n",
    "# X_test = np.array(X_test)\n",
    "\n",
    "# # Reshape the data\n",
    "# X_test = np.reshape(X_test, (X_test.shape[0], X_test.shape[1], 1))\n",
    "\n",
    "# # Get the predicted scaled price\n",
    "# pred_price = model.predict(X_test)\n",
    "\n",
    "# # Undo the scaling\n",
    "# pred_price = scaler.inverse_transform(pred_price)\n",
    "# print(pred_price)"
   ]
  },
  {
   "cell_type": "code",
   "execution_count": null,
   "metadata": {
    "colab": {
     "base_uri": "https://localhost:8080/"
    },
    "id": "An9oG1DvcJEo",
    "outputId": "ecfe5d60-892c-43fd-fe88-3c527ababe01"
   },
   "outputs": [],
   "source": [
    "# Get the quote\n",
    "# tesla_quote2 = web.DataReader('AAPL', data_source='yahoo', start='2020-12-31', end='2020-12-31')\n",
    "# print(tesla_quote2['Close'])"
   ]
  },
  {
   "cell_type": "code",
   "execution_count": null,
   "metadata": {
    "id": "tYOjOhTlcdU1"
   },
   "outputs": [],
   "source": []
  },
  {
   "cell_type": "code",
   "execution_count": null,
   "metadata": {
    "colab": {
     "base_uri": "https://localhost:8080/"
    },
    "id": "IRxk2KEgRN42",
    "outputId": "5889d9cf-98a3-4267-f835-c0eedc40c3a7"
   },
   "outputs": [],
   "source": []
  },
  {
   "cell_type": "code",
   "execution_count": null,
   "metadata": {
    "id": "IgGdjKSQRwyL"
   },
   "outputs": [],
   "source": []
  },
  {
   "cell_type": "code",
   "execution_count": null,
   "metadata": {
    "colab": {
     "base_uri": "https://localhost:8080/"
    },
    "id": "JB0ECPc-RzTE",
    "outputId": "f917fa80-4641-40fa-8897-e9bbeb10db52"
   },
   "outputs": [],
   "source": []
  },
  {
   "cell_type": "code",
   "execution_count": null,
   "metadata": {
    "id": "zbQBQsmRSM7I"
   },
   "outputs": [],
   "source": []
  },
  {
   "cell_type": "code",
   "execution_count": null,
   "metadata": {
    "colab": {
     "base_uri": "https://localhost:8080/"
    },
    "id": "C-cv1sJMSOt1",
    "outputId": "6f169a6e-2572-41ec-ae20-60351fa2d466"
   },
   "outputs": [],
   "source": []
  },
  {
   "cell_type": "code",
   "execution_count": null,
   "metadata": {
    "id": "nhgiq1npTIpt"
   },
   "outputs": [],
   "source": []
  }
 ],
 "metadata": {
  "colab": {
   "collapsed_sections": [],
   "name": "cody_test_algo.ipynb",
   "provenance": []
  },
  "kernelspec": {
   "display_name": "Python [conda env:PythonAdv] *",
   "language": "python",
   "name": "conda-env-PythonAdv-py"
  },
  "language_info": {
   "codemirror_mode": {
    "name": "ipython",
    "version": 3
   },
   "file_extension": ".py",
   "mimetype": "text/x-python",
   "name": "python",
   "nbconvert_exporter": "python",
   "pygments_lexer": "ipython3",
   "version": "3.6.12"
  }
 },
 "nbformat": 4,
 "nbformat_minor": 1
}
