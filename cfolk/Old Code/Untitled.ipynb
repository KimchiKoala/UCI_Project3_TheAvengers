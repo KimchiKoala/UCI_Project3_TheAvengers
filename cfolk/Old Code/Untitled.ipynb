{
 "cells": [
  {
   "cell_type": "code",
   "execution_count": 30,
   "metadata": {},
   "outputs": [],
   "source": [
    "import math\n",
    "import json\n",
    "from datetime import date, datetime, timedelta\n",
    "import pandas_datareader as web\n",
    "import numpy as np\n",
    "import pandas as pd\n",
    "from sklearn.preprocessing import MinMaxScaler\n",
    "from keras.models import Sequential\n",
    "from keras.layers import Dense, LSTM\n",
    "import matplotlib.pyplot as plt\n",
    "import plotly.express as px\n",
    "plt.style.use('fivethirtyeight')\n",
    "import pymongo\n",
    "from pymongo import MongoClient\n"
   ]
  },
  {
   "cell_type": "code",
   "execution_count": 31,
   "metadata": {},
   "outputs": [],
   "source": [
    "# Create connection to mongoDB\n",
    "client = MongoClient('mongodb://localhost:27017')\n",
    "# Connect to stock_df database in mongoDB\n",
    "db = client.stock_db ###################"
   ]
  },
  {
   "cell_type": "code",
   "execution_count": 32,
   "metadata": {},
   "outputs": [],
   "source": [
    "# Create variable for new_input\n",
    "new_input = \"ZM\""
   ]
  },
  {
   "cell_type": "code",
   "execution_count": 33,
   "metadata": {},
   "outputs": [],
   "source": [
    "# Retrive data\n",
    "one_stock = db.stock_data.find_one({'symbol': new_input}) ########################3\n",
    "\n",
    "# Isolate symbol and historical data\n",
    "symbol = one_stock['symbol']\n",
    "historical_data = one_stock['historical']\n",
    "\n",
    "stock_date = []\n",
    "close = []\n",
    "\n",
    "for h in historical_data:\n",
    "    \n",
    "    collect_dates = h['date']\n",
    "    stock_date.append(collect_dates)\n",
    "    \n",
    "    collect_close = h['close']\n",
    "    close.append(collect_close)"
   ]
  },
  {
   "cell_type": "code",
   "execution_count": 34,
   "metadata": {},
   "outputs": [
    {
     "data": {
      "text/html": [
       "<div>\n",
       "<style scoped>\n",
       "    .dataframe tbody tr th:only-of-type {\n",
       "        vertical-align: middle;\n",
       "    }\n",
       "\n",
       "    .dataframe tbody tr th {\n",
       "        vertical-align: top;\n",
       "    }\n",
       "\n",
       "    .dataframe thead th {\n",
       "        text-align: right;\n",
       "    }\n",
       "</style>\n",
       "<table border=\"1\" class=\"dataframe\">\n",
       "  <thead>\n",
       "    <tr style=\"text-align: right;\">\n",
       "      <th></th>\n",
       "      <th>Date</th>\n",
       "      <th>close</th>\n",
       "    </tr>\n",
       "  </thead>\n",
       "  <tbody>\n",
       "    <tr>\n",
       "      <th>0</th>\n",
       "      <td>2019-04-18</td>\n",
       "      <td>62.0</td>\n",
       "    </tr>\n",
       "    <tr>\n",
       "      <th>1</th>\n",
       "      <td>2019-04-22</td>\n",
       "      <td>65.7</td>\n",
       "    </tr>\n",
       "    <tr>\n",
       "      <th>2</th>\n",
       "      <td>2019-04-23</td>\n",
       "      <td>69.0</td>\n",
       "    </tr>\n",
       "    <tr>\n",
       "      <th>3</th>\n",
       "      <td>2019-04-24</td>\n",
       "      <td>63.2</td>\n",
       "    </tr>\n",
       "    <tr>\n",
       "      <th>4</th>\n",
       "      <td>2019-04-25</td>\n",
       "      <td>65.0</td>\n",
       "    </tr>\n",
       "  </tbody>\n",
       "</table>\n",
       "</div>"
      ],
      "text/plain": [
       "         Date  close\n",
       "0  2019-04-18   62.0\n",
       "1  2019-04-22   65.7\n",
       "2  2019-04-23   69.0\n",
       "3  2019-04-24   63.2\n",
       "4  2019-04-25   65.0"
      ]
     },
     "execution_count": 34,
     "metadata": {},
     "output_type": "execute_result"
    }
   ],
   "source": [
    "df = pd.DataFrame({'Date': stock_date,\n",
    "                  'close': close})\n",
    "df.head()"
   ]
  },
  {
   "cell_type": "code",
   "execution_count": 35,
   "metadata": {},
   "outputs": [
    {
     "data": {
      "text/plain": [
       "Date     datetime64[ns]\n",
       "close           float64\n",
       "dtype: object"
      ]
     },
     "execution_count": 35,
     "metadata": {},
     "output_type": "execute_result"
    }
   ],
   "source": [
    "df['Date'] = pd.to_datetime(df['Date'])\n",
    "df.dtypes"
   ]
  },
  {
   "cell_type": "code",
   "execution_count": 36,
   "metadata": {},
   "outputs": [
    {
     "data": {
      "text/html": [
       "<div>\n",
       "<style scoped>\n",
       "    .dataframe tbody tr th:only-of-type {\n",
       "        vertical-align: middle;\n",
       "    }\n",
       "\n",
       "    .dataframe tbody tr th {\n",
       "        vertical-align: top;\n",
       "    }\n",
       "\n",
       "    .dataframe thead th {\n",
       "        text-align: right;\n",
       "    }\n",
       "</style>\n",
       "<table border=\"1\" class=\"dataframe\">\n",
       "  <thead>\n",
       "    <tr style=\"text-align: right;\">\n",
       "      <th></th>\n",
       "      <th>close</th>\n",
       "    </tr>\n",
       "    <tr>\n",
       "      <th>Date</th>\n",
       "      <th></th>\n",
       "    </tr>\n",
       "  </thead>\n",
       "  <tbody>\n",
       "    <tr>\n",
       "      <th>2019-04-18</th>\n",
       "      <td>62.0</td>\n",
       "    </tr>\n",
       "    <tr>\n",
       "      <th>2019-04-22</th>\n",
       "      <td>65.7</td>\n",
       "    </tr>\n",
       "    <tr>\n",
       "      <th>2019-04-23</th>\n",
       "      <td>69.0</td>\n",
       "    </tr>\n",
       "    <tr>\n",
       "      <th>2019-04-24</th>\n",
       "      <td>63.2</td>\n",
       "    </tr>\n",
       "    <tr>\n",
       "      <th>2019-04-25</th>\n",
       "      <td>65.0</td>\n",
       "    </tr>\n",
       "  </tbody>\n",
       "</table>\n",
       "</div>"
      ],
      "text/plain": [
       "            close\n",
       "Date             \n",
       "2019-04-18   62.0\n",
       "2019-04-22   65.7\n",
       "2019-04-23   69.0\n",
       "2019-04-24   63.2\n",
       "2019-04-25   65.0"
      ]
     },
     "execution_count": 36,
     "metadata": {},
     "output_type": "execute_result"
    }
   ],
   "source": [
    "new_df = df.set_index('Date')\n",
    "new_df.head()"
   ]
  },
  {
   "cell_type": "code",
   "execution_count": 37,
   "metadata": {},
   "outputs": [
    {
     "data": {
      "text/plain": [
       "(472, 1)"
      ]
     },
     "execution_count": 37,
     "metadata": {},
     "output_type": "execute_result"
    }
   ],
   "source": [
    "new_df.shape"
   ]
  },
  {
   "cell_type": "code",
   "execution_count": 38,
   "metadata": {},
   "outputs": [
    {
     "data": {
      "image/png": "[encoded data removed]",
      "text/plain": [
       "<Figure size 1152x576 with 1 Axes>"
      ]
     },
     "metadata": {},
     "output_type": "display_data"
    }
   ],
   "source": [
    "plt.figure(figsize =(16, 8))\n",
    "plt.title('Closing Price History')\n",
    "plt.plot(new_df['close'])\n",
    "plt.xlabel('Date', fontsize=18)\n",
    "plt.ylabel('Close Prize USD ($)', fontsize=18)\n",
    "plt.show()"
   ]
  },
  {
   "cell_type": "code",
   "execution_count": 39,
   "metadata": {},
   "outputs": [
    {
     "data": {
      "text/plain": [
       "378"
      ]
     },
     "execution_count": 39,
     "metadata": {},
     "output_type": "execute_result"
    }
   ],
   "source": [
    "# Create new df with only the 'Close' column\n",
    "data = new_df.filter(['close'])\n",
    "\n",
    "# Convert df to a numpy array\n",
    "dataset = data.values\n",
    "\n",
    "# Get the number of rows to train the model on\n",
    "training_data_len = math.ceil(len(dataset) * .8)\n",
    "\n",
    "training_data_len"
   ]
  },
  {
   "cell_type": "code",
   "execution_count": 40,
   "metadata": {},
   "outputs": [
    {
     "data": {
      "text/plain": [
       "array([[0.00000000e+00],\n",
       "       [7.30734250e-03],\n",
       "       [1.38247020e-02],\n",
       "       [2.36994892e-03],\n",
       "       [5.92487230e-03],\n",
       "       [8.33432037e-03],\n",
       "       [1.21854874e-02],\n",
       "       [2.06778043e-02],\n",
       "       [2.12505420e-02],\n",
       "       [2.66619253e-02],\n",
       "       [3.39297687e-02],\n",
       "       [3.20733087e-02],\n",
       "       [2.23762677e-02],\n",
       "       [3.09673326e-02],\n",
       "       [2.60891877e-02],\n",
       "       [3.48184995e-02],\n",
       "       [2.08160513e-02],\n",
       "       [2.20010258e-02],\n",
       "       [3.50752440e-02],\n",
       "       [4.22640891e-02],\n",
       "       [5.52593090e-02],\n",
       "       [4.47722850e-02],\n",
       "       [4.62930022e-02],\n",
       "       [4.03483804e-02],\n",
       "       [3.31002866e-02],\n",
       "       [2.81431434e-02],\n",
       "       [3.11450787e-02],\n",
       "       [2.71951639e-02],\n",
       "       [3.63787159e-02],\n",
       "       [3.50159953e-02],\n",
       "       [2.74519083e-02],\n",
       "       [3.30607874e-02],\n",
       "       [3.16783172e-02],\n",
       "       [3.44235081e-02],\n",
       "       [6.32973857e-02],\n",
       "       [7.89982973e-02],\n",
       "       [6.49168508e-02],\n",
       "       [8.05190145e-02],\n",
       "       [7.69245920e-02],\n",
       "       [7.56211201e-02],\n",
       "       [7.13157129e-02],\n",
       "       [7.43373978e-02],\n",
       "       [7.97685307e-02],\n",
       "       [7.95907846e-02],\n",
       "       [7.59766125e-02],\n",
       "       [5.41335832e-02],\n",
       "       [4.54832697e-02],\n",
       "       [4.80507143e-02],\n",
       "       [5.58320466e-02],\n",
       "       [5.29091096e-02],\n",
       "       [4.90974418e-02],\n",
       "       [4.56807654e-02],\n",
       "       [5.61875390e-02],\n",
       "       [5.90117281e-02],\n",
       "       [5.67997758e-02],\n",
       "       [5.71355185e-02],\n",
       "       [6.06706923e-02],\n",
       "       [5.80637485e-02],\n",
       "       [6.18161677e-02],\n",
       "       [7.46533910e-02],\n",
       "       [6.93210059e-02],\n",
       "       [7.45151440e-02],\n",
       "       [6.55488372e-02],\n",
       "       [6.19741643e-02],\n",
       "       [6.84717742e-02],\n",
       "       [6.98937436e-02],\n",
       "       [6.70300553e-02],\n",
       "       [6.93407555e-02],\n",
       "       [7.93932888e-02],\n",
       "       [6.80767827e-02],\n",
       "       [6.61413244e-02],\n",
       "       [6.61808236e-02],\n",
       "       [6.53710910e-02],\n",
       "       [6.25271523e-02],\n",
       "       [5.46865713e-02],\n",
       "       [5.61480398e-02],\n",
       "       [6.01374538e-02],\n",
       "       [6.66943125e-02],\n",
       "       [6.35936293e-02],\n",
       "       [5.95647162e-02],\n",
       "       [6.60623261e-02],\n",
       "       [6.05324453e-02],\n",
       "       [5.65627809e-02],\n",
       "       [6.02954504e-02],\n",
       "       [6.15594232e-02],\n",
       "       [5.80834981e-02],\n",
       "       [6.12434300e-02],\n",
       "       [6.29616430e-02],\n",
       "       [5.85179887e-02],\n",
       "       [5.87747332e-02],\n",
       "       [5.87154845e-02],\n",
       "       [5.56148013e-02],\n",
       "       [5.70170211e-02],\n",
       "       [5.85969870e-02],\n",
       "       [6.01572034e-02],\n",
       "       [6.22704079e-02],\n",
       "       [6.06114436e-02],\n",
       "       [4.62337535e-02],\n",
       "       [3.28830413e-02],\n",
       "       [3.62404689e-02],\n",
       "       [3.69514536e-02],\n",
       "       [3.85709187e-02],\n",
       "       [3.32780327e-02],\n",
       "       [3.68724553e-02],\n",
       "       [4.47130363e-02],\n",
       "       [4.45352901e-02],\n",
       "       [4.46735371e-02],\n",
       "       [4.07433718e-02],\n",
       "       [4.07236223e-02],\n",
       "       [3.55887329e-02],\n",
       "       [3.47592508e-02],\n",
       "       [3.50554944e-02],\n",
       "       [2.77284024e-02],\n",
       "       [2.80443956e-02],\n",
       "       [2.72741622e-02],\n",
       "       [2.34032456e-02],\n",
       "       [2.92886187e-02],\n",
       "       [2.86961315e-02],\n",
       "       [2.96046119e-02],\n",
       "       [2.28897566e-02],\n",
       "       [2.14480377e-02],\n",
       "       [1.77943665e-02],\n",
       "       [1.84658520e-02],\n",
       "       [1.73796254e-02],\n",
       "       [1.79918622e-02],\n",
       "       [1.12375078e-02],\n",
       "       [9.93403589e-03],\n",
       "       [8.05782633e-03],\n",
       "       [7.44558952e-03],\n",
       "       [0.00000000e+00],\n",
       "       [1.18497446e-04],\n",
       "       [4.97689273e-03],\n",
       "       [2.86368828e-03],\n",
       "       [9.00580589e-03],\n",
       "       [6.89260144e-03],\n",
       "       [1.57996595e-02],\n",
       "       [1.55824141e-02],\n",
       "       [1.65698929e-02],\n",
       "       [1.60366544e-02],\n",
       "       [9.65754185e-03],\n",
       "       [9.53904440e-03],\n",
       "       [9.49954525e-03],\n",
       "       [1.55034158e-02],\n",
       "       [1.26199780e-02],\n",
       "       [1.18497446e-02],\n",
       "       [1.18694942e-02],\n",
       "       [1.13362557e-02],\n",
       "       [1.58194090e-02],\n",
       "       [1.59576561e-02],\n",
       "       [1.50886748e-02],\n",
       "       [1.77548673e-02],\n",
       "       [1.56416629e-02],\n",
       "       [2.20405250e-02],\n",
       "       [2.47857158e-02],\n",
       "       [2.59904398e-02],\n",
       "       [2.38574858e-02],\n",
       "       [2.46869679e-02],\n",
       "       [1.36864550e-02],\n",
       "       [1.58391586e-02],\n",
       "       [1.57206612e-02],\n",
       "       [1.51479235e-02],\n",
       "       [1.46146850e-03],\n",
       "       [7.78133229e-03],\n",
       "       [5.07564060e-03],\n",
       "       [3.00193530e-03],\n",
       "       [9.67729142e-04],\n",
       "       [3.04143445e-03],\n",
       "       [8.59106483e-03],\n",
       "       [8.23557250e-03],\n",
       "       [1.10597616e-02],\n",
       "       [1.22052369e-02],\n",
       "       [9.73654015e-03],\n",
       "       [8.19607335e-03],\n",
       "       [8.80831015e-03],\n",
       "       [1.07635180e-02],\n",
       "       [9.16380249e-03],\n",
       "       [9.46004610e-03],\n",
       "       [1.19287429e-02],\n",
       "       [1.32717140e-02],\n",
       "       [1.04277752e-02],\n",
       "       [1.64316458e-02],\n",
       "       [1.95520786e-02],\n",
       "       [2.08358009e-02],\n",
       "       [2.09740479e-02],\n",
       "       [2.19022779e-02],\n",
       "       [2.37587379e-02],\n",
       "       [2.20405250e-02],\n",
       "       [2.95058641e-02],\n",
       "       [2.78666494e-02],\n",
       "       [2.67804228e-02],\n",
       "       [2.90911230e-02],\n",
       "       [2.67409236e-02],\n",
       "       [2.46277192e-02],\n",
       "       [2.17245318e-02],\n",
       "       [1.66686407e-02],\n",
       "       [1.87818452e-02],\n",
       "       [2.28700071e-02],\n",
       "       [2.47659662e-02],\n",
       "       [2.82418913e-02],\n",
       "       [5.06774077e-02],\n",
       "       [4.69842373e-02],\n",
       "       [4.93541863e-02],\n",
       "       [4.98874248e-02],\n",
       "       [5.26128660e-02],\n",
       "       [5.46470722e-02],\n",
       "       [5.26918643e-02],\n",
       "       [5.19018813e-02],\n",
       "       [5.50223141e-02],\n",
       "       [5.71750177e-02],\n",
       "       [6.79187861e-02],\n",
       "       [8.28099652e-02],\n",
       "       [8.54959073e-02],\n",
       "       [7.85243075e-02],\n",
       "       [8.49429192e-02],\n",
       "       [8.90310811e-02],\n",
       "       [8.86360896e-02],\n",
       "       [1.01809056e-01],\n",
       "       [8.49231696e-02],\n",
       "       [1.00940074e-01],\n",
       "       [1.09550889e-01],\n",
       "       [1.08227667e-01],\n",
       "       [1.24422318e-01],\n",
       "       [1.03329773e-01],\n",
       "       [1.02204047e-01],\n",
       "       [9.18157711e-02],\n",
       "       [9.53904440e-02],\n",
       "       [9.37512293e-02],\n",
       "       [8.98013145e-02],\n",
       "       [9.05715479e-02],\n",
       "       [9.69704100e-02],\n",
       "       [1.11999836e-01],\n",
       "       [1.21993121e-01],\n",
       "       [1.35383332e-01],\n",
       "       [1.92676847e-01],\n",
       "       [1.44527385e-01],\n",
       "       [1.50314010e-01],\n",
       "       [1.56317881e-01],\n",
       "       [1.77153682e-01],\n",
       "       [1.75534217e-01],\n",
       "       [1.66133419e-01],\n",
       "       [1.48121807e-01],\n",
       "       [1.18359199e-01],\n",
       "       [1.30742182e-01],\n",
       "       [1.20353906e-01],\n",
       "       [1.02204047e-01],\n",
       "       [1.10222374e-01],\n",
       "       [1.23454589e-01],\n",
       "       [1.45988853e-01],\n",
       "       [1.57779349e-01],\n",
       "       [1.76877188e-01],\n",
       "       [1.74309743e-01],\n",
       "       [1.73914752e-01],\n",
       "       [1.71801547e-01],\n",
       "       [1.60504791e-01],\n",
       "       [1.74289993e-01],\n",
       "       [2.11498192e-01],\n",
       "       [1.91175880e-01],\n",
       "       [2.02630633e-01],\n",
       "       [1.87067968e-01],\n",
       "       [1.66844404e-01],\n",
       "       [1.44507635e-01],\n",
       "       [1.51202741e-01],\n",
       "       [1.60840533e-01],\n",
       "       [1.63565975e-01],\n",
       "       [1.72986522e-01],\n",
       "       [1.89200922e-01],\n",
       "       [1.84461024e-01],\n",
       "       [2.06343553e-01],\n",
       "       [1.95599784e-01],\n",
       "       [2.07647025e-01],\n",
       "       [2.09167742e-01],\n",
       "       [2.22834447e-01],\n",
       "       [2.02808379e-01],\n",
       "       [2.20563246e-01],\n",
       "       [2.24118170e-01],\n",
       "       [2.17304566e-01],\n",
       "       [2.15388858e-01],\n",
       "       [2.01445658e-01],\n",
       "       [1.97436495e-01],\n",
       "       [2.00556927e-01],\n",
       "       [2.32017999e-01],\n",
       "       [2.80740199e-01],\n",
       "       [2.88501782e-01],\n",
       "       [3.19686360e-01],\n",
       "       [2.92984935e-01],\n",
       "       [2.87553802e-01],\n",
       "       [2.91957957e-01],\n",
       "       [2.83268145e-01],\n",
       "       [3.14057731e-01],\n",
       "       [3.16131436e-01],\n",
       "       [3.11095295e-01],\n",
       "       [3.49606965e-01],\n",
       "       [3.56598314e-01],\n",
       "       [3.45143561e-01],\n",
       "       [3.54643106e-01],\n",
       "       [3.58415275e-01],\n",
       "       [3.73800193e-01],\n",
       "       [3.76841628e-01],\n",
       "       [3.82944246e-01],\n",
       "       [3.90073843e-01],\n",
       "       [3.84721708e-01],\n",
       "       [3.68448059e-01],\n",
       "       [3.78283347e-01],\n",
       "       [3.89323359e-01],\n",
       "       [3.94477998e-01],\n",
       "       [3.93016529e-01],\n",
       "       [3.95188982e-01],\n",
       "       [4.03523303e-01],\n",
       "       [4.09843167e-01],\n",
       "       [4.22384146e-01],\n",
       "       [3.91634059e-01],\n",
       "       [3.91061321e-01],\n",
       "       [3.83576233e-01],\n",
       "       [3.68408560e-01],\n",
       "       [3.64458645e-01],\n",
       "       [4.07986707e-01],\n",
       "       [3.91910553e-01],\n",
       "       [3.93372022e-01],\n",
       "       [3.74254434e-01],\n",
       "       [3.64498144e-01],\n",
       "       [3.75893648e-01],\n",
       "       [3.75597405e-01],\n",
       "       [3.76012146e-01],\n",
       "       [3.71291997e-01],\n",
       "       [3.79014081e-01],\n",
       "       [4.06841231e-01],\n",
       "       [4.05537759e-01],\n",
       "       [4.16518523e-01],\n",
       "       [4.07334971e-01],\n",
       "       [3.88533376e-01],\n",
       "       [3.71291997e-01],\n",
       "       [3.33846791e-01],\n",
       "       [3.45064565e-01],\n",
       "       [3.65860864e-01],\n",
       "       [3.61239472e-01],\n",
       "       [4.03187548e-01],\n",
       "       [4.24220833e-01],\n",
       "       [4.17723266e-01],\n",
       "       [4.51653019e-01],\n",
       "       [4.49658295e-01],\n",
       "       [4.35043621e-01],\n",
       "       [4.51159280e-01],\n",
       "       [4.60698299e-01],\n",
       "       [4.59533082e-01],\n",
       "       [4.68598128e-01],\n",
       "       [5.19611312e-01],\n",
       "       [7.81470911e-01],\n",
       "       [7.14065606e-01],\n",
       "       [6.30643421e-01],\n",
       "       [6.08069674e-01],\n",
       "       [5.70525713e-01],\n",
       "       [6.47094791e-01],\n",
       "       [6.36884295e-01],\n",
       "       [6.33961336e-01],\n",
       "       [6.74467733e-01],\n",
       "       [6.89141651e-01],\n",
       "       [6.83671040e-01],\n",
       "       [6.93456929e-01],\n",
       "       [7.44025735e-01],\n",
       "       [8.02760950e-01],\n",
       "       [8.50416683e-01],\n",
       "       [8.66078081e-01],\n",
       "       [7.95868368e-01],\n",
       "       [8.58119005e-01],\n",
       "       [8.40660389e-01],\n",
       "       [7.96895324e-01],\n",
       "       [8.05999848e-01],\n",
       "       [8.31437310e-01],\n",
       "       [8.29936384e-01],\n",
       "       [8.36137719e-01],\n",
       "       [8.22076032e-01],\n",
       "       [8.26736901e-01],\n",
       "       [8.22668495e-01],\n",
       "       [8.50041437e-01],\n",
       "       [8.48323234e-01],\n",
       "       [9.02140762e-01],\n",
       "       [8.83299712e-01],\n",
       "       [9.36919854e-01],\n",
       "       [9.81553844e-01],\n",
       "       [1.00000000e+00],\n",
       "       [9.38144319e-01],\n",
       "       [8.91081048e-01],\n",
       "       [9.05596938e-01],\n",
       "       [8.87782844e-01],\n",
       "       [9.00165805e-01],\n",
       "       [9.42034926e-01],\n",
       "       [8.96650444e-01],\n",
       "       [8.44649781e-01],\n",
       "       [7.87830278e-01],\n",
       "       [7.72208356e-01],\n",
       "       [7.69265690e-01],\n",
       "       [8.32839573e-01],\n",
       "       [8.58573267e-01],\n",
       "       [8.65248571e-01],\n",
       "       [6.93684029e-01],\n",
       "       [6.20156403e-01],\n",
       "       [6.93881537e-01],\n",
       "       [7.24098423e-01],\n",
       "       [6.74605934e-01],\n",
       "       [6.65856887e-01],\n",
       "       [6.70754803e-01],\n",
       "       [6.97238990e-01],\n",
       "       [6.95757772e-01],\n",
       "       [7.45743939e-01],\n",
       "       [7.27337321e-01],\n",
       "       [7.21945666e-01],\n",
       "       [7.53880753e-01],\n",
       "       [8.08962285e-01],\n",
       "       [8.22293247e-01],\n",
       "       [6.79997590e-01],\n",
       "       [6.92933535e-01],\n",
       "       [6.94276554e-01],\n",
       "       [6.87304956e-01],\n",
       "       [6.83039040e-01],\n",
       "       [6.91235102e-01],\n",
       "       [6.38622206e-01],\n",
       "       [6.63506681e-01],\n",
       "       [6.61630509e-01],\n",
       "       [6.59616013e-01],\n",
       "       [6.66409873e-01],\n",
       "       [6.75435442e-01],\n",
       "       [6.70735034e-01],\n",
       "       [6.79405126e-01],\n",
       "       [6.85250983e-01],\n",
       "       [6.85310229e-01],\n",
       "       [6.35699308e-01],\n",
       "       [6.18497445e-01],\n",
       "       [5.71532961e-01],\n",
       "       [5.76193831e-01],\n",
       "       [5.75502584e-01],\n",
       "       [5.43745294e-01],\n",
       "       [5.88497838e-01],\n",
       "       [5.90176504e-01],\n",
       "       [5.57747737e-01],\n",
       "       [5.53975560e-01],\n",
       "       [5.68017478e-01],\n",
       "       [5.44515496e-01],\n",
       "       [5.82237197e-01],\n",
       "       [5.97681378e-01],\n",
       "       [6.34435306e-01],\n",
       "       [6.36983019e-01],\n",
       "       [6.55429113e-01],\n",
       "       [6.33566321e-01],\n",
       "       [6.33586090e-01],\n",
       "       [6.34751307e-01],\n",
       "       [6.51400184e-01],\n",
       "       [6.16956982e-01],\n",
       "       [6.09748338e-01],\n",
       "       [6.25251766e-01],\n",
       "       [6.12375065e-01],\n",
       "       [6.31848118e-01],\n",
       "       [6.51419952e-01],\n",
       "       [6.28964696e-01],\n",
       "       [6.47746561e-01],\n",
       "       [7.06225021e-01],\n",
       "       [6.88884898e-01],\n",
       "       [7.26843582e-01],\n",
       "       [7.28759293e-01],\n",
       "       [7.32254946e-01],\n",
       "       [7.32926423e-01],\n",
       "       [7.55440987e-01],\n",
       "       [7.25638886e-01],\n",
       "       [7.02907108e-01],\n",
       "       [7.01623397e-01],\n",
       "       [6.56357345e-01],\n",
       "       [6.44152124e-01],\n",
       "       [6.38365513e-01],\n",
       "       [5.97878885e-01],\n",
       "       [6.15416456e-01],\n",
       "       [6.86613709e-01],\n",
       "       [6.13797038e-01],\n",
       "       [5.52138863e-01]])"
      ]
     },
     "execution_count": 40,
     "metadata": {},
     "output_type": "execute_result"
    }
   ],
   "source": [
    "# Scale the data to apply preprocessing scaling before presenting to nueral network\n",
    "scaler = MinMaxScaler(feature_range=(0,1))\n",
    "scaled_data = scaler.fit_transform(dataset)\n",
    "\n",
    "# Show scaled data representing values between 0-1\n",
    "scaled_data"
   ]
  },
  {
   "cell_type": "code",
   "execution_count": 41,
   "metadata": {},
   "outputs": [
    {
     "name": "stdout",
     "output_type": "stream",
     "text": [
      "[array([0.        , 0.00730734, 0.0138247 , 0.00236995, 0.00592487,\n",
      "       0.00833432, 0.01218549, 0.0206778 , 0.02125054, 0.02666193,\n",
      "       0.03392977, 0.03207331, 0.02237627, 0.03096733, 0.02608919,\n",
      "       0.0348185 , 0.02081605, 0.02200103, 0.03507524, 0.04226409,\n",
      "       0.05525931, 0.04477229, 0.046293  , 0.04034838, 0.03310029,\n",
      "       0.02814314, 0.03114508, 0.02719516, 0.03637872, 0.035016  ,\n",
      "       0.02745191, 0.03306079, 0.03167832, 0.03442351, 0.06329739,\n",
      "       0.0789983 , 0.06491685, 0.08051901, 0.07692459, 0.07562112,\n",
      "       0.07131571, 0.0743374 , 0.07976853, 0.07959078, 0.07597661,\n",
      "       0.05413358, 0.04548327, 0.04805071, 0.05583205, 0.05290911,\n",
      "       0.04909744, 0.04568077, 0.05618754, 0.05901173, 0.05679978,\n",
      "       0.05713552, 0.06067069, 0.05806375, 0.06181617, 0.07465339])]\n",
      "[0.06932100590183046]\n",
      "\n"
     ]
    }
   ],
   "source": [
    "# Create the training dataset \n",
    "# Create the scaled training dataset\n",
    "train_data = scaled_data[0:training_data_len , :]\n",
    "\n",
    "# Split the data into x_train and y_train data sets\n",
    "# x_train will be the independent training variables\n",
    "# y_train will be the dependent variables\n",
    "x_train = []\n",
    "y_train = []\n",
    "\n",
    "for i in range(60, len(train_data)):\n",
    "  # Append past 60 values to x_train\n",
    "  # contains 60 vals index from position 0 to position 59\n",
    "  x_train.append(train_data[i-60:i, 0])\n",
    "\n",
    "  #y_train will contain the 61st value \n",
    "  y_train.append(train_data[i,0])\n",
    "\n",
    "  # Run below to visualize the x & y trains. x should be an array of 60 values and y should be 1 value being the 61st\n",
    "  # Changing to if i<=61 will provide a 2nd pass through\n",
    "  if i<=60:\n",
    "    print(x_train)\n",
    "    print(y_train)\n",
    "    print()"
   ]
  },
  {
   "cell_type": "code",
   "execution_count": 42,
   "metadata": {},
   "outputs": [],
   "source": [
    "# Convert x_train & y_train to numpy arrays  so we can use them for training the LSTM model\n",
    "x_train, y_train = np.array(x_train), np.array(y_train)"
   ]
  },
  {
   "cell_type": "code",
   "execution_count": 43,
   "metadata": {},
   "outputs": [
    {
     "data": {
      "text/plain": [
       "(318, 60, 1)"
      ]
     },
     "execution_count": 43,
     "metadata": {},
     "output_type": "execute_result"
    }
   ],
   "source": [
    "# Reshape the data because LSTM network expects input to be 3 dimensional and as of now our x_train is 2D\n",
    "# number of sample(rows), timesteps(columns), and features(closing price)\n",
    "x_train = np.reshape(x_train, (x_train.shape[0], x_train.shape[1], 1))\n",
    "x_train.shape"
   ]
  },
  {
   "cell_type": "code",
   "execution_count": 44,
   "metadata": {},
   "outputs": [],
   "source": [
    "# Build LSTM model\n",
    "model = Sequential()\n",
    "# add LSTM with 50 neurons \n",
    "model.add(LSTM(50, return_sequences=True, input_shape=(x_train.shape[1], 1)))\n",
    "model.add(LSTM(50, return_sequences=False))\n",
    "model.add(Dense(25))\n",
    "model.add(Dense(1))"
   ]
  },
  {
   "cell_type": "code",
   "execution_count": 45,
   "metadata": {},
   "outputs": [],
   "source": [
    "# Compile the model\n",
    "model.compile(optimizer='adam', loss='mean_squared_error')"
   ]
  },
  {
   "cell_type": "code",
   "execution_count": 46,
   "metadata": {},
   "outputs": [
    {
     "name": "stdout",
     "output_type": "stream",
     "text": [
      "Epoch 1/1\n",
      "318/318 [==============================] - 120s 379ms/step - loss: 0.0046\n"
     ]
    },
    {
     "data": {
      "text/plain": [
       "<keras.callbacks.callbacks.History at 0x1a503347f0>"
      ]
     },
     "execution_count": 46,
     "metadata": {},
     "output_type": "execute_result"
    }
   ],
   "source": [
    "# Train the model\n",
    "model.fit(x_train, y_train, batch_size=1, epochs=1)"
   ]
  },
  {
   "cell_type": "code",
   "execution_count": 47,
   "metadata": {},
   "outputs": [],
   "source": [
    "# Create testing dataset\n",
    "# Create new array containing scaled values from index 2057 to 2646\n",
    "test_data = scaled_data[training_data_len - 60: , :]\n",
    "\n",
    "# Create the data sets x_test and y_test\n",
    "x_test = []\n",
    "# y_test contains actual 61st values (not scaled)\n",
    "y_test = dataset[training_data_len: , :]\n",
    "\n",
    "for i in range(60, len(test_data)):\n",
    "  x_test.append(test_data[i-60:i, 0])"
   ]
  },
  {
   "cell_type": "code",
   "execution_count": 48,
   "metadata": {},
   "outputs": [],
   "source": [
    "# Convert data to numpy array to use is LSTM model\n",
    "x_test = np.array(x_test)"
   ]
  },
  {
   "cell_type": "code",
   "execution_count": 49,
   "metadata": {},
   "outputs": [],
   "source": [
    "# Reshape the data because data is 2D and we need 3D for LSTM\n",
    "# number of samples(rows), timesteps(col), features(closing price)\n",
    "x_test = np.reshape(x_test, (x_test.shape[0], x_test.shape[1], 1))"
   ]
  },
  {
   "cell_type": "code",
   "execution_count": 50,
   "metadata": {},
   "outputs": [],
   "source": [
    "# Get the models predicted price values for x_test dataset\n",
    "predictions = model.predict(x_test)\n",
    "predictions = scaler.inverse_transform(predictions)"
   ]
  },
  {
   "cell_type": "code",
   "execution_count": 51,
   "metadata": {},
   "outputs": [
    {
     "data": {
      "text/plain": [
       "32.60230950332447"
      ]
     },
     "execution_count": 51,
     "metadata": {},
     "output_type": "execute_result"
    }
   ],
   "source": [
    "# Get the root mean squared error. Closer to 0 the better\n",
    "rmse = np.sqrt(np.mean(predictions - y_test) **2)\n",
    "rmse"
   ]
  },
  {
   "cell_type": "code",
   "execution_count": 52,
   "metadata": {},
   "outputs": [
    {
     "name": "stderr",
     "output_type": "stream",
     "text": [
      "/opt/anaconda3/envs/PythonAdv/lib/python3.6/site-packages/ipykernel_launcher.py:4: SettingWithCopyWarning:\n",
      "\n",
      "\n",
      "A value is trying to be set on a copy of a slice from a DataFrame.\n",
      "Try using .loc[row_indexer,col_indexer] = value instead\n",
      "\n",
      "See the caveats in the documentation: https://pandas.pydata.org/pandas-docs/stable/user_guide/indexing.html#returning-a-view-versus-a-copy\n",
      "\n"
     ]
    },
    {
     "data": {
      "image/png": "[encoded data removed]",
      "text/plain": [
       "<Figure size 1152x576 with 1 Axes>"
      ]
     },
     "metadata": {},
     "output_type": "display_data"
    }
   ],
   "source": [
    "# Plot the data\n",
    "train = data[:training_data_len]\n",
    "valid = data[training_data_len:]\n",
    "valid['Predictions'] = predictions\n",
    "\n",
    "# Visualize the model\n",
    "plt.figure(figsize=(16,8))\n",
    "plt.title('Model')\n",
    "plt.xlabel('Date', fontsize=18)\n",
    "plt.ylabel('Close Price USD ($)', fontsize=18)\n",
    "plt.plot(train['close'])\n",
    "plt.plot(valid[['close', 'Predictions']])\n",
    "plt.legend(['Train', 'Validation', 'Predictions'], loc='lower right')\n",
    "plt.show()\n",
    "\n",
    "# Blue will indicate what the model was trained on\n",
    "# Red is actual closing values\n",
    "# Yellow is the prediction"
   ]
  },
  {
   "cell_type": "code",
   "execution_count": 53,
   "metadata": {},
   "outputs": [
    {
     "data": {
      "text/html": [
       "<div>\n",
       "<style scoped>\n",
       "    .dataframe tbody tr th:only-of-type {\n",
       "        vertical-align: middle;\n",
       "    }\n",
       "\n",
       "    .dataframe tbody tr th {\n",
       "        vertical-align: top;\n",
       "    }\n",
       "\n",
       "    .dataframe thead th {\n",
       "        text-align: right;\n",
       "    }\n",
       "</style>\n",
       "<table border=\"1\" class=\"dataframe\">\n",
       "  <thead>\n",
       "    <tr style=\"text-align: right;\">\n",
       "      <th></th>\n",
       "      <th>Date</th>\n",
       "      <th>close</th>\n",
       "      <th>Predictions</th>\n",
       "    </tr>\n",
       "  </thead>\n",
       "  <tbody>\n",
       "    <tr>\n",
       "      <th>0</th>\n",
       "      <td>2020-10-16</td>\n",
       "      <td>559.000000</td>\n",
       "      <td>520.462830</td>\n",
       "    </tr>\n",
       "    <tr>\n",
       "      <th>1</th>\n",
       "      <td>2020-10-19</td>\n",
       "      <td>568.340027</td>\n",
       "      <td>527.298889</td>\n",
       "    </tr>\n",
       "    <tr>\n",
       "      <th>2</th>\n",
       "      <td>2020-10-20</td>\n",
       "      <td>537.020020</td>\n",
       "      <td>535.427917</td>\n",
       "    </tr>\n",
       "    <tr>\n",
       "      <th>3</th>\n",
       "      <td>2020-10-21</td>\n",
       "      <td>513.190002</td>\n",
       "      <td>542.054016</td>\n",
       "    </tr>\n",
       "    <tr>\n",
       "      <th>4</th>\n",
       "      <td>2020-10-22</td>\n",
       "      <td>520.539978</td>\n",
       "      <td>546.139221</td>\n",
       "    </tr>\n",
       "  </tbody>\n",
       "</table>\n",
       "</div>"
      ],
      "text/plain": [
       "        Date       close  Predictions\n",
       "0 2020-10-16  559.000000   520.462830\n",
       "1 2020-10-19  568.340027   527.298889\n",
       "2 2020-10-20  537.020020   535.427917\n",
       "3 2020-10-21  513.190002   542.054016\n",
       "4 2020-10-22  520.539978   546.139221"
      ]
     },
     "execution_count": 53,
     "metadata": {},
     "output_type": "execute_result"
    }
   ],
   "source": [
    "index_valid = valid.reset_index()\n",
    "index_valid_df = pd.DataFrame(index_valid)\n",
    "index_valid_df.head()"
   ]
  },
  {
   "cell_type": "code",
   "execution_count": 54,
   "metadata": {},
   "outputs": [],
   "source": [
    "stock_date = index_valid_df['Date']\n",
    "stock_date_list = []\n",
    "\n",
    "for stock in stock_date:\n",
    "    collect_dates = stock\n",
    "    clean_dates = datetime.strftime(collect_dates, '%Y-%m-%d')\n",
    "    stock_date_list.append(clean_dates)\n",
    "    \n",
    "#print(stock_date_list)"
   ]
  },
  {
   "cell_type": "code",
   "execution_count": 55,
   "metadata": {},
   "outputs": [],
   "source": [
    "close_data = index_valid_df['close']\n",
    "close_data_list = []\n",
    "\n",
    "for close in close_data:\n",
    "    collect_close = close\n",
    "    close_data_list.append(collect_close)\n",
    "    \n",
    "#close_data_list"
   ]
  },
  {
   "cell_type": "code",
   "execution_count": 56,
   "metadata": {},
   "outputs": [],
   "source": [
    "predictions_data = index_valid_df['Predictions']\n",
    "predicted_data_list = []\n",
    "\n",
    "for predict in predictions_data:\n",
    "    collect_predict = predict\n",
    "    predicted_data_list.append(collect_predict)\n",
    "    \n",
    "#predicted_data_list"
   ]
  },
  {
   "cell_type": "code",
   "execution_count": 57,
   "metadata": {},
   "outputs": [],
   "source": [
    "prediction_data = {\n",
    "    'Date': stock_date_list,\n",
    "    'Actual Close': close_data_list,\n",
    "    'Predictions': predicted_data_list\n",
    "}\n",
    "#prediction_data"
   ]
  },
  {
   "cell_type": "code",
   "execution_count": 58,
   "metadata": {},
   "outputs": [
    {
     "name": "stdout",
     "output_type": "stream",
     "text": [
      "2021-03-03\n"
     ]
    }
   ],
   "source": [
    "current_date = date.today().strftime('%Y-%m-%d')\n",
    "print(current_date)"
   ]
  },
  {
   "cell_type": "code",
   "execution_count": 59,
   "metadata": {},
   "outputs": [
    {
     "data": {
      "text/plain": [
       "<pymongo.results.UpdateResult at 0x1a5222fe48>"
      ]
     },
     "execution_count": 59,
     "metadata": {},
     "output_type": "execute_result"
    }
   ],
   "source": [
    "db.stock_data.update_one({'symbol': new_input}, {'$push': {'prediction': {'date': current_date, 'prediction_data': prediction_data}}})"
   ]
  },
  {
   "cell_type": "code",
   "execution_count": null,
   "metadata": {},
   "outputs": [],
   "source": []
  }
 ],
 "metadata": {
  "kernelspec": {
   "display_name": "Python [conda env:PythonAdv] *",
   "language": "python",
   "name": "conda-env-PythonAdv-py"
  },
  "language_info": {
   "codemirror_mode": {
    "name": "ipython",
    "version": 3
   },
   "file_extension": ".py",
   "mimetype": "text/x-python",
   "name": "python",
   "nbconvert_exporter": "python",
   "pygments_lexer": "ipython3",
   "version": "3.6.12"
  }
 },
 "nbformat": 4,
 "nbformat_minor": 4
}
